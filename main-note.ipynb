{
 "cells": [
  {
   "cell_type": "code",
   "execution_count": 1,
   "id": "5b775b42",
   "metadata": {},
   "outputs": [],
   "source": [
    "import os\n",
    "from PIL import Image\n",
    "from tensorflow.keras.preprocessing.image import ImageDataGenerator\n",
    "from tensorflow.keras.models import Sequential\n",
    "from tensorflow.keras import regularizers\n",
    "\n",
    "from tensorflow.keras.layers import (\n",
    "    Dense, Conv2D, MaxPool2D, \n",
    "    Flatten, Dropout, BatchNormalization,\n",
    ")\n",
    "import matplotlib.pyplot as plt\n",
    "import matplotlib.image as mpimg\n",
    "from tensorflow.keras.preprocessing import image as image_utils\n",
    "from tensorflow.keras.applications.imagenet_utils import preprocess_input\n"
   ]
  },
  {
   "cell_type": "code",
   "execution_count": null,
   "id": "24c691bd",
   "metadata": {},
   "outputs": [],
   "source": [
    "def make_predictions(image_path, w, h):\n",
    "    image = image_utils.load_img(image_path, target_size=(w, h))\n",
    "    image = image_utils.img_to_array(image)\n",
    "    image = image.reshape(1,w,h,3)\n",
    "    image = preprocess_input(image)\n",
    "    preds = model.predict(image)\n",
    "    return preds\n"
   ]
  },
  {
   "cell_type": "code",
   "execution_count": 3,
   "id": "5090f7e4",
   "metadata": {},
   "outputs": [
    {
     "name": "stdout",
     "output_type": "stream",
     "text": [
      "First IMG: (256, 256)\n",
      "Second IMG: (2048, 1251)\n"
     ]
    }
   ],
   "source": [
    "# Gets image size\n",
    "imgPath = os.path.join('Hey-Waldo-master', '256', 'waldo', '1_1_1.jpg')\n",
    "img = Image.open(imgPath)\n",
    "width = img.width\n",
    "height = img.height\n",
    "imageSize = (width, height)\n",
    "print(f\"First IMG: {imageSize}\")\n",
    "\n",
    "imgPath = os.path.join('Hey-Waldo-master', 'original-images', 'test_img', '1.jpg')\n",
    "img = Image.open(imgPath)\n",
    "width = img.width\n",
    "height = img.height\n",
    "imageSize = (width, height)\n",
    "print(f\"Second IMG: {imageSize}\")\n",
    "\n",
    "xTrain = os.path.join('Hey-Waldo-master', '256')\n",
    "xValid = os.path.join('Hey-Waldo-master', 'original-images')"
   ]
  },
  {
   "cell_type": "code",
   "execution_count": 4,
   "id": "71064e3e",
   "metadata": {},
   "outputs": [
    {
     "name": "stdout",
     "output_type": "stream",
     "text": [
      "Found 317 images belonging to 2 classes.\n",
      "Found 19 images belonging to 1 classes.\n"
     ]
    }
   ],
   "source": [
    "datagen = ImageDataGenerator(\n",
    "    rotation_range=10,  # randomly rotate images in the range (degrees, 0 to 180)\n",
    "    zoom_range=0.1,  # Randomly zoom image\n",
    "    width_shift_range=0.1,  # randomly shift images horizontally (fraction of total width)\n",
    "    height_shift_range=0.1,  # randomly shift images vertically (fraction of total height)\n",
    "    horizontal_flip=True,  # randomly flip images horizontally\n",
    "    vertical_flip=False, # Don't randomly flip images vertically\n",
    ")\n",
    "\n",
    "batch_train = 4\n",
    "batch_valid = 4\n",
    "\n",
    "train_gen = datagen.flow_from_directory(\n",
    "    xTrain,\n",
    "    target_size=imageSize,\n",
    "    batch_size=batch_train,\n",
    "    class_mode='binary'  # Binary classification (with Waldo or without Waldo)\n",
    ")\n",
    "valid_gen = datagen.flow_from_directory(\n",
    "    xValid,\n",
    "    target_size=imageSize,\n",
    "    batch_size=batch_valid,\n",
    "    class_mode='binary'\n",
    ")"
   ]
  },
  {
   "cell_type": "code",
   "execution_count": null,
   "id": "6d1b4ae7",
   "metadata": {
    "scrolled": true
   },
   "outputs": [
    {
     "name": "stderr",
     "output_type": "stream",
     "text": [
      "/Users/jnito/anaconda3/lib/python3.11/site-packages/keras/src/layers/convolutional/base_conv.py:99: UserWarning: Do not pass an `input_shape`/`input_dim` argument to a layer. When using Sequential models, prefer using an `Input(shape)` object as the first layer in the model instead.\n",
      "  super().__init__(\n"
     ]
    },
    {
     "name": "stdout",
     "output_type": "stream",
     "text": [
      "20.0\n",
      "Epoch 1/10\n"
     ]
    },
    {
     "name": "stderr",
     "output_type": "stream",
     "text": [
      "/Users/jnito/anaconda3/lib/python3.11/site-packages/keras/src/trainers/data_adapters/py_dataset_adapter.py:120: UserWarning: Your `PyDataset` class should call `super().__init__(**kwargs)` in its constructor. `**kwargs` can include `workers`, `use_multiprocessing`, `max_queue_size`. Do not pass these arguments to `fit()`, as they will be ignored.\n",
      "  self._warn_if_super_not_called()\n"
     ]
    }
   ],
   "source": [
    "model = Sequential()\n",
    "model.add(Conv2D(75, (3, 3), strides=1, padding=\"same\", activation=\"relu\", \n",
    "                 input_shape=(width, height, 3)))\n",
    "model.add(BatchNormalization())\n",
    "model.add(MaxPool2D((2, 2), strides=2, padding=\"same\"))\n",
    "model.add(Dropout(0.3))  # Increase dropout rate\n",
    "model.add(Conv2D(50, (3, 3), strides=1, padding=\"same\", activation=\"relu\"))\n",
    "model.add(BatchNormalization())\n",
    "model.add(MaxPool2D((2, 2), strides=2, padding=\"same\"))\n",
    "model.add(Dropout(0.3))  # Increase dropout rate\n",
    "model.add(Conv2D(25, (3, 3), strides=1, padding=\"same\", activation=\"relu\"))\n",
    "model.add(BatchNormalization())\n",
    "model.add(MaxPool2D((2, 2), strides=2, padding=\"same\"))\n",
    "model.add(Flatten())\n",
    "model.add(Dense(units=512, activation=\"relu\", kernel_regularizer=regularizers.l2(0.01)))  # Add L2 regularization\n",
    "model.add(Dropout(0.5))  # Increase dropout rate\n",
    "model.add(Dense(units=1, activation=\"sigmoid\"))  # Use 'sigmoid' for binary classification\n",
    "\n",
    "model.compile(loss='binary_crossentropy', optimizer='adam', metrics=['accuracy'])\n",
    "\n",
    "print((len(train_gen))/batch_train)\n",
    "\n",
    "model.fit(train_gen, steps_per_epoch = int((len(train_gen))/batch_train), epochs=10, \n",
    "          validation_data=valid_gen, validation_steps=len(valid_gen))\n"
   ]
  },
  {
   "cell_type": "code",
   "execution_count": null,
   "id": "854ee401",
   "metadata": {},
   "outputs": [],
   "source": [
    "print('== PREDICTIONS ==\\n')\n",
    "\n",
    "result = make_predictions('Hey-Waldo-master/pepe.jpeg', width, height)\n",
    "if result > 0.5:\n",
    "    print(\"Waldo is present in the image!\")\n",
    "else:\n",
    "    print(\"Waldo is not present in the image.\")\n",
    "\n",
    "\n",
    "result = make_predictions('Hey-Waldo-master/256/waldo/2_0_1.jpg', width, height)\n",
    "if result > 0.5:\n",
    "    print(\"Waldo is present in the image!\")\n",
    "else:\n",
    "    print(\"Waldo is not present in the image.\")"
   ]
  }
 ],
 "metadata": {
  "kernelspec": {
   "display_name": "Python 3 (ipykernel)",
   "language": "python",
   "name": "python3"
  },
  "language_info": {
   "codemirror_mode": {
    "name": "ipython",
    "version": 3
   },
   "file_extension": ".py",
   "mimetype": "text/x-python",
   "name": "python",
   "nbconvert_exporter": "python",
   "pygments_lexer": "ipython3",
   "version": "3.11.5"
  }
 },
 "nbformat": 4,
 "nbformat_minor": 5
}
